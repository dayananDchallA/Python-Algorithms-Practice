{
 "cells": [
  {
   "cell_type": "markdown",
   "metadata": {},
   "source": [
    "## Sorting algorithms"
   ]
  },
  {
   "cell_type": "code",
   "execution_count": 1,
   "metadata": {},
   "outputs": [],
   "source": [
    "def mergeSort(li):\n",
    "    if len(li)<=1:\n",
    "        return\n",
    "    else:\n",
    "        left=li[:int(len(li)/2)]\n",
    "        right=li[int(len(li)/2):]\n",
    "        mergeSort(left)\n",
    "        mergeSort(right)\n",
    "        i1=0\n",
    "        i2=0\n",
    "        for i in range(0,len(li)):\n",
    "            if i2>=len(right) or (i1<len(left) and left[i1]<right[i2]):\n",
    "                li[i]=left[i1]\n",
    "                i1+=1\n",
    "            else:\n",
    "                li[i]=right[i2]\n",
    "                i2+=1\n",
    "    return(li)"
   ]
  },
  {
   "cell_type": "code",
   "execution_count": 2,
   "metadata": {},
   "outputs": [],
   "source": [
    "def swap(li,a,b):\n",
    "    c=li[a]\n",
    "    li[a]=li[b]\n",
    "    li[b]=c"
   ]
  },
  {
   "cell_type": "code",
   "execution_count": 3,
   "metadata": {},
   "outputs": [],
   "source": [
    "\"\"\"\n",
    "Runtime BigO(N^2)\n",
    "\"\"\"  \n",
    "def selectSort(li):\n",
    "    for i in range(0,len(li)):\n",
    "        min=i\n",
    "        for j in range(i+1,len(li)):\n",
    "            if li[j]<li[min]:\n",
    "                min=j\n",
    "        swap(li,min,i)\n",
    "    return(li)"
   ]
  },
  {
   "cell_type": "code",
   "execution_count": 4,
   "metadata": {},
   "outputs": [],
   "source": [
    "def insertSort(li):\n",
    "    for i in range(1,len(li)):\n",
    "            temp=li[i]\n",
    "            j=i\n",
    "            while (li[j-1]>temp and j>=1):\n",
    "                li[j]=li[j-1]\n",
    "                j-=1\n",
    "            li[j]=temp\n",
    "    return (li)"
   ]
  },
  {
   "cell_type": "code",
   "execution_count": 5,
   "metadata": {},
   "outputs": [],
   "source": [
    "a= [1,21,34,23,29,42]"
   ]
  },
  {
   "cell_type": "code",
   "execution_count": 6,
   "metadata": {},
   "outputs": [
    {
     "name": "stdout",
     "output_type": "stream",
     "text": [
      "[1, 21, 23, 29, 34, 42]\n"
     ]
    }
   ],
   "source": [
    "sorted_a = insertSort(a)\n",
    "print(sorted_a)"
   ]
  },
  {
   "cell_type": "code",
   "execution_count": 7,
   "metadata": {},
   "outputs": [
    {
     "name": "stdout",
     "output_type": "stream",
     "text": [
      "[1, 21, 23, 29, 34, 42]\n"
     ]
    }
   ],
   "source": [
    "sorted_a = selectSort(a)\n",
    "print(sorted_a)"
   ]
  },
  {
   "cell_type": "code",
   "execution_count": 8,
   "metadata": {},
   "outputs": [
    {
     "name": "stdout",
     "output_type": "stream",
     "text": [
      "[1, 21, 23, 29, 34, 42]\n"
     ]
    }
   ],
   "source": [
    "sorted_a = mergeSort(a)\n",
    "print(sorted_a)"
   ]
  },
  {
   "cell_type": "code",
   "execution_count": null,
   "metadata": {},
   "outputs": [],
   "source": []
  }
 ],
 "metadata": {
  "kernelspec": {
   "display_name": "Python 3",
   "language": "python",
   "name": "python3"
  },
  "language_info": {
   "codemirror_mode": {
    "name": "ipython",
    "version": 3
   },
   "file_extension": ".py",
   "mimetype": "text/x-python",
   "name": "python",
   "nbconvert_exporter": "python",
   "pygments_lexer": "ipython3",
   "version": "3.7.2"
  }
 },
 "nbformat": 4,
 "nbformat_minor": 2
}
