{
 "cells": [
  {
   "cell_type": "markdown",
   "metadata": {},
   "source": [
    "## Problem: ### Nth Even Fibonacci Number\n",
    "Given a value n, find the n’th even Fibonacci Number.\n",
    "https://www.geeksforgeeks.org/nth-even-fibonacci-number \n"
    "\n",
    "Examples :\n",
    "\n",
    "Input  : n  = 3\n",
    "Output : 34\n",
    "\n",
    "Input  : n  = 4\n",
    "Output : 144\n",
    "\n",
    "Input : n = 7\n",
    "Output : 10946"
   ]
  },
  {
   "cell_type": "markdown",
   "metadata": {},
   "source": [
    "### Approach"
   ]
  },
  {
   "cell_type": "markdown",
   "metadata": {},
   "source": [
    "The Fibonacci numbers are the numbers in the following integer sequence.<br>\n",
    "0, 1, 1, 2, 3, 5, 8, 13, 21, 34, 55, 89, 144, ….<br>\n",
    "where any number in sequence is given by:<br>\n",
    "\n",
    " Fn = Fn-1 + Fn-2 <br>\n",
    " with seed values <br>\n",
    " F0 = 0 and F1 = 1."
   ]
  },
  {
   "cell_type": "markdown",
   "metadata": {},
   "source": [
    "The even number Fibonacci sequence is, 0, 2, 8, 34, 144, 610, 2584…. We need to find n’th number in this sequence.\n",
    "\n",
    "If we take a closer look at Fibonacci sequence, we can notice that every third number in sequence is even and the sequence of even numbers follow following recursive formula.\n",
    "\n"
   ]
  },
  {
   "cell_type": "markdown",
   "metadata": {},
   "source": [
    "Recurrence for Even Fibonacci sequence is: <br>\n",
    "     EFn = 4EFn-1 + EFn-2 <br>\n",
    "with seed values <br>\n",
    "     EF0 = 0 and EF1 = 2. <br>\n",
    "\n",
    "EFn represents n'th term in Even Fibonacci sequence. <br>\n",
    "#### How does above formula work? \n",
    "Let us take a look original Fibonacci Formula and write it in the form of Fn-3 and Fn-6 because of the fact that every third Fibinacci number is even.<br>\n",
    "\n",
    "Fn = Fn-1 + Fn-2 [Expanding both terms] <br>\n",
    "   = Fn-2 + Fn-3 + Fn-3 + Fn-4 <br>\n",
    "   = Fn-2 + 2Fn-3 + Fn-4 [Expending first term] <br>\n",
    "   = Fn-3 + Fn-4 + 2Fn-3 + Fn-4 <br>\n",
    "   = 3Fn-3 + 2Fn-4  [Expending one Fn-4] <br>\n",
    "   = 3Fn-3 + Fn-4 + Fn-5 + Fn-6 [Combing Fn-4 and Fn-5] <br>\n",
    "   = 4Fn-3 + Fn-6  <br>\n",
    "\n",
    "Since every third Fibonacci Number is even, So if Fn is <br>\n",
    "even then Fn-3 is even and Fn-6 is also even. Let Fn be <br>\n",
    "xth even element and mark it as EFx.<br>\n",
    "If Fn is EFx, then Fn-3 is previous even number i.e. EFx-1 <br>\n",
    "and Fn-6 is previous of EFx-1 i.e. EFx-2<br>\n",
    "So <br>\n",
    "Fn = 4Fn-3 + Fn-6 <br>\n",
    "which means, <br>\n",
    "EFx = 4EFx-1 + EFx-2 <br>"
   ]
  },
  {
   "cell_type": "code",
   "execution_count": 1,
   "metadata": {},
   "outputs": [
    {
     "name": "stdout",
     "output_type": "stream",
     "text": [
      "10946\n",
      "832040\n"
     ]
    }
   ],
   "source": [
    "# Python3 code to find Even  Fibonacci \n",
    "# Series using normal Recursion \n",
    "   \n",
    "# Function which return  \n",
    "#nth even fibonnaci number  \n",
    "def evenFib(n) : \n",
    "    if (n < 1) : \n",
    "        return n \n",
    "    if (n == 1)  : \n",
    "        return 2\n",
    "   \n",
    "    # calculation of  \n",
    "    # Fn = 4*(Fn-1) + Fn-2 \n",
    "    return ((4 * evenFib(n-1)) + evenFib(n-2))   \n",
    "  \n",
    "  \n",
    "# Driver Code  \n",
    "n = 7\n",
    "print(evenFib(n)) ;\n",
    "\n",
    "\n",
    "print(evenFib(10))"
   ]
  },
  {
   "cell_type": "code",
   "execution_count": null,
   "metadata": {},
   "outputs": [],
   "source": []
  }
 ],
 "metadata": {
  "kernelspec": {
   "display_name": "Python 3",
   "language": "python",
   "name": "python3"
  },
  "language_info": {
   "codemirror_mode": {
    "name": "ipython",
    "version": 3
   },
   "file_extension": ".py",
   "mimetype": "text/x-python",
   "name": "python",
   "nbconvert_exporter": "python",
   "pygments_lexer": "ipython3",
   "version": "3.7.2"
  }
 },
 "nbformat": 4,
 "nbformat_minor": 2
}
